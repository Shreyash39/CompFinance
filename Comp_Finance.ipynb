{
 "cells": [
  {
   "cell_type": "markdown",
   "id": "eb5da6e3-e27a-43bf-bf7f-efc23f385f28",
   "metadata": {},
   "source": [
    "# Comp_Finance"
   ]
  },
  {
   "cell_type": "code",
   "execution_count": 59,
   "id": "c8eeffa0-fb04-4044-920f-35bdc5843822",
   "metadata": {},
   "outputs": [
    {
     "name": "stdout",
     "output_type": "stream",
     "text": [
      "Requirement already satisfied: numpy in /opt/anaconda3/lib/python3.11/site-packages (1.26.4)\n",
      "Requirement already satisfied: pandas in /opt/anaconda3/lib/python3.11/site-packages (2.1.4)\n",
      "Requirement already satisfied: numpy<2,>=1.23.2 in /opt/anaconda3/lib/python3.11/site-packages (from pandas) (1.26.4)\n",
      "Requirement already satisfied: python-dateutil>=2.8.2 in /opt/anaconda3/lib/python3.11/site-packages (from pandas) (2.8.2)\n",
      "Requirement already satisfied: pytz>=2020.1 in /opt/anaconda3/lib/python3.11/site-packages (from pandas) (2023.3.post1)\n",
      "Requirement already satisfied: tzdata>=2022.1 in /opt/anaconda3/lib/python3.11/site-packages (from pandas) (2023.3)\n",
      "Requirement already satisfied: six>=1.5 in /opt/anaconda3/lib/python3.11/site-packages (from python-dateutil>=2.8.2->pandas) (1.16.0)\n",
      "Requirement already satisfied: matplotlib in /opt/anaconda3/lib/python3.11/site-packages (3.8.0)\n",
      "Requirement already satisfied: contourpy>=1.0.1 in /opt/anaconda3/lib/python3.11/site-packages (from matplotlib) (1.2.0)\n",
      "Requirement already satisfied: cycler>=0.10 in /opt/anaconda3/lib/python3.11/site-packages (from matplotlib) (0.11.0)\n",
      "Requirement already satisfied: fonttools>=4.22.0 in /opt/anaconda3/lib/python3.11/site-packages (from matplotlib) (4.25.0)\n",
      "Requirement already satisfied: kiwisolver>=1.0.1 in /opt/anaconda3/lib/python3.11/site-packages (from matplotlib) (1.4.4)\n",
      "Requirement already satisfied: numpy<2,>=1.21 in /opt/anaconda3/lib/python3.11/site-packages (from matplotlib) (1.26.4)\n",
      "Requirement already satisfied: packaging>=20.0 in /opt/anaconda3/lib/python3.11/site-packages (from matplotlib) (23.1)\n",
      "Requirement already satisfied: pillow>=6.2.0 in /opt/anaconda3/lib/python3.11/site-packages (from matplotlib) (10.2.0)\n",
      "Requirement already satisfied: pyparsing>=2.3.1 in /opt/anaconda3/lib/python3.11/site-packages (from matplotlib) (3.0.9)\n",
      "Requirement already satisfied: python-dateutil>=2.7 in /opt/anaconda3/lib/python3.11/site-packages (from matplotlib) (2.8.2)\n",
      "Requirement already satisfied: six>=1.5 in /opt/anaconda3/lib/python3.11/site-packages (from python-dateutil>=2.7->matplotlib) (1.16.0)\n",
      "Requirement already satisfied: seaborn in /opt/anaconda3/lib/python3.11/site-packages (0.12.2)\n",
      "Requirement already satisfied: numpy!=1.24.0,>=1.17 in /opt/anaconda3/lib/python3.11/site-packages (from seaborn) (1.26.4)\n",
      "Requirement already satisfied: pandas>=0.25 in /opt/anaconda3/lib/python3.11/site-packages (from seaborn) (2.1.4)\n",
      "Requirement already satisfied: matplotlib!=3.6.1,>=3.1 in /opt/anaconda3/lib/python3.11/site-packages (from seaborn) (3.8.0)\n",
      "Requirement already satisfied: contourpy>=1.0.1 in /opt/anaconda3/lib/python3.11/site-packages (from matplotlib!=3.6.1,>=3.1->seaborn) (1.2.0)\n",
      "Requirement already satisfied: cycler>=0.10 in /opt/anaconda3/lib/python3.11/site-packages (from matplotlib!=3.6.1,>=3.1->seaborn) (0.11.0)\n",
      "Requirement already satisfied: fonttools>=4.22.0 in /opt/anaconda3/lib/python3.11/site-packages (from matplotlib!=3.6.1,>=3.1->seaborn) (4.25.0)\n",
      "Requirement already satisfied: kiwisolver>=1.0.1 in /opt/anaconda3/lib/python3.11/site-packages (from matplotlib!=3.6.1,>=3.1->seaborn) (1.4.4)\n",
      "Requirement already satisfied: packaging>=20.0 in /opt/anaconda3/lib/python3.11/site-packages (from matplotlib!=3.6.1,>=3.1->seaborn) (23.1)\n",
      "Requirement already satisfied: pillow>=6.2.0 in /opt/anaconda3/lib/python3.11/site-packages (from matplotlib!=3.6.1,>=3.1->seaborn) (10.2.0)\n",
      "Requirement already satisfied: pyparsing>=2.3.1 in /opt/anaconda3/lib/python3.11/site-packages (from matplotlib!=3.6.1,>=3.1->seaborn) (3.0.9)\n",
      "Requirement already satisfied: python-dateutil>=2.7 in /opt/anaconda3/lib/python3.11/site-packages (from matplotlib!=3.6.1,>=3.1->seaborn) (2.8.2)\n",
      "Requirement already satisfied: pytz>=2020.1 in /opt/anaconda3/lib/python3.11/site-packages (from pandas>=0.25->seaborn) (2023.3.post1)\n",
      "Requirement already satisfied: tzdata>=2022.1 in /opt/anaconda3/lib/python3.11/site-packages (from pandas>=0.25->seaborn) (2023.3)\n",
      "Requirement already satisfied: six>=1.5 in /opt/anaconda3/lib/python3.11/site-packages (from python-dateutil>=2.7->matplotlib!=3.6.1,>=3.1->seaborn) (1.16.0)\n",
      "Requirement already satisfied: scikit-learn in /opt/anaconda3/lib/python3.11/site-packages (1.2.2)\n",
      "Requirement already satisfied: numpy>=1.17.3 in /opt/anaconda3/lib/python3.11/site-packages (from scikit-learn) (1.26.4)\n",
      "Requirement already satisfied: scipy>=1.3.2 in /opt/anaconda3/lib/python3.11/site-packages (from scikit-learn) (1.11.4)\n",
      "Requirement already satisfied: joblib>=1.1.1 in /opt/anaconda3/lib/python3.11/site-packages (from scikit-learn) (1.2.0)\n",
      "Requirement already satisfied: threadpoolctl>=2.0.0 in /opt/anaconda3/lib/python3.11/site-packages (from scikit-learn) (2.2.0)\n"
     ]
    }
   ],
   "source": [
    "!pip install numpy\n",
    "!pip install pandas\n",
    "!pip install matplotlib\n",
    "!pip install seaborn\n",
    "!pip install scikit-learn"
   ]
  },
  {
   "cell_type": "code",
   "execution_count": 60,
   "id": "4dfe6b71-9be5-4661-a4c7-f96a91bb51e0",
   "metadata": {},
   "outputs": [],
   "source": [
    "import numpy as np\n",
    "import pandas as pd\n",
    "import matplotlib.pyplot as plt\n",
    "import seaborn as sns\n"
   ]
  },
  {
   "cell_type": "code",
   "execution_count": 63,
   "id": "c4ed676b-4447-4237-84e3-c5e3dfa1b363",
   "metadata": {},
   "outputs": [
    {
     "name": "stdout",
     "output_type": "stream",
     "text": [
      "{'Information': 'Thank you for using Alpha Vantage! Our standard API rate limit is 25 requests per day. Please subscribe to any of the premium plans at https://www.alphavantage.co/premium/ to instantly remove all daily rate limits.'}\n"
     ]
    }
   ],
   "source": [
    "# Core Stock API(Time_Series_Daily)\n",
    "\n",
    "import requests\n",
    "\n",
    "r = requests.get('https://www.alphavantage.co/query?function=TIME_SERIES_DAILY&symbol=IBM&apikey=P5ZI3O6DR29N16M6')\n",
    "data = r.json()\n",
    "\n",
    "print(data)"
   ]
  },
  {
   "cell_type": "code",
   "execution_count": 62,
   "id": "9860c96d-2042-4003-839f-6330b1c8003a",
   "metadata": {},
   "outputs": [
    {
     "ename": "KeyError",
     "evalue": "'Time Series (Daily)'",
     "output_type": "error",
     "traceback": [
      "\u001b[0;31m---------------------------------------------------------------------------\u001b[0m",
      "\u001b[0;31mKeyError\u001b[0m                                  Traceback (most recent call last)",
      "Cell \u001b[0;32mIn[62], line 1\u001b[0m\n\u001b[0;32m----> 1\u001b[0m time_series_data \u001b[38;5;241m=\u001b[39m data[\u001b[38;5;124m'\u001b[39m\u001b[38;5;124mTime Series (Daily)\u001b[39m\u001b[38;5;124m'\u001b[39m]\n\u001b[1;32m      3\u001b[0m df \u001b[38;5;241m=\u001b[39m pd\u001b[38;5;241m.\u001b[39mDataFrame\u001b[38;5;241m.\u001b[39mfrom_dict(time_series_data, orient\u001b[38;5;241m=\u001b[39m\u001b[38;5;124m'\u001b[39m\u001b[38;5;124mindex\u001b[39m\u001b[38;5;124m'\u001b[39m)\n\u001b[1;32m      5\u001b[0m df\u001b[38;5;241m.\u001b[39mindex \u001b[38;5;241m=\u001b[39m pd\u001b[38;5;241m.\u001b[39mto_datetime(df\u001b[38;5;241m.\u001b[39mindex)\n",
      "\u001b[0;31mKeyError\u001b[0m: 'Time Series (Daily)'"
     ]
    }
   ],
   "source": [
    "time_series_data = data['Time Series (Daily)']\n",
    "\n",
    "df = pd.DataFrame.from_dict(time_series_data, orient='index')\n",
    "\n",
    "df.index = pd.to_datetime(df.index)\n",
    "\n",
    "df.columns = ['open', 'high', 'low', 'close', 'volume']\n",
    "\n",
    "df = df.astype(float)\n",
    "\n",
    "print(df.head(50))\n"
   ]
  },
  {
   "cell_type": "code",
   "execution_count": null,
   "id": "af6aa369-cf3b-4996-ab3b-0fcd727c0298",
   "metadata": {},
   "outputs": [],
   "source": [
    "import requests\n",
    "import pandas as pd\n",
    "\n",
    "api_key = 'P5ZI3O6DR29N16M6'\n",
    "\n",
    "symbol = 'IBM'\n",
    "interval = 'daily'\n",
    "time_period = 10\n",
    "series_type = 'close'\n",
    "\n",
    "url = f'https://www.alphavantage.co/query?function=SMA&symbol={symbol}&interval={interval}&time_period={time_period}&series_type={series_type}&apikey={api_key}'\n",
    "response = requests.get(url)\n",
    "sma_data = response.json()\n",
    "\n",
    "import json\n",
    "print(json.dumps(sma_data, indent=4))\n"
   ]
  },
  {
   "cell_type": "code",
   "execution_count": null,
   "id": "968570a8-7f1c-4980-a4c8-f85f4025c930",
   "metadata": {},
   "outputs": [],
   "source": [
    "sma_series = sma_data['Technical Analysis: SMA']\n",
    "\n",
    "sma_df = pd.DataFrame.from_dict(sma_series, orient='index')\n",
    "\n",
    "sma_df.index = pd.to_datetime(sma_df.index)\n",
    "\n",
    "sma_df.columns = ['SMA']\n",
    "\n",
    "sma_df = sma_df.astype(float)\n",
    "\n",
    "print(sma_df.head(30))\n"
   ]
  },
  {
   "cell_type": "code",
   "execution_count": null,
   "id": "a8020479-9cdd-44bf-8348-bd3265464baa",
   "metadata": {},
   "outputs": [],
   "source": [
    "merged_df = df.join(sma_df, how='inner')\n",
    "\n",
    "print(merged_df.head(30))\n"
   ]
  },
  {
   "cell_type": "code",
   "execution_count": 64,
   "id": "8fdb7a0e-a0d1-49c6-b7c1-8fd3355805ab",
   "metadata": {},
   "outputs": [
    {
     "name": "stdout",
     "output_type": "stream",
     "text": [
      "{\n",
      "    \"Information\": \"Thank you for using Alpha Vantage! Our standard API rate limit is 25 requests per day. Please subscribe to any of the premium plans at https://www.alphavantage.co/premium/ to instantly remove all daily rate limits.\"\n",
      "}\n"
     ]
    },
    {
     "ename": "KeyError",
     "evalue": "'Technical Analysis: RSI'",
     "output_type": "error",
     "traceback": [
      "\u001b[0;31m---------------------------------------------------------------------------\u001b[0m",
      "\u001b[0;31mKeyError\u001b[0m                                  Traceback (most recent call last)",
      "Cell \u001b[0;32mIn[64], line 7\u001b[0m\n\u001b[1;32m      3\u001b[0m rsi_data \u001b[38;5;241m=\u001b[39m response\u001b[38;5;241m.\u001b[39mjson()\n\u001b[1;32m      5\u001b[0m \u001b[38;5;28mprint\u001b[39m(json\u001b[38;5;241m.\u001b[39mdumps(rsi_data, indent\u001b[38;5;241m=\u001b[39m\u001b[38;5;241m4\u001b[39m))\n\u001b[0;32m----> 7\u001b[0m rsi_series \u001b[38;5;241m=\u001b[39m rsi_data[\u001b[38;5;124m'\u001b[39m\u001b[38;5;124mTechnical Analysis: RSI\u001b[39m\u001b[38;5;124m'\u001b[39m]\n\u001b[1;32m      9\u001b[0m rsi_df \u001b[38;5;241m=\u001b[39m pd\u001b[38;5;241m.\u001b[39mDataFrame\u001b[38;5;241m.\u001b[39mfrom_dict(rsi_series, orient\u001b[38;5;241m=\u001b[39m\u001b[38;5;124m'\u001b[39m\u001b[38;5;124mindex\u001b[39m\u001b[38;5;124m'\u001b[39m)\n\u001b[1;32m     11\u001b[0m rsi_df\u001b[38;5;241m.\u001b[39mindex \u001b[38;5;241m=\u001b[39m pd\u001b[38;5;241m.\u001b[39mto_datetime(rsi_df\u001b[38;5;241m.\u001b[39mindex)\n",
      "\u001b[0;31mKeyError\u001b[0m: 'Technical Analysis: RSI'"
     ]
    }
   ],
   "source": [
    "url = f'https://www.alphavantage.co/query?function=RSI&symbol={symbol}&interval={interval}&time_period=14&series_type={series_type}&apikey={api_key}'\n",
    "response = requests.get(url)\n",
    "rsi_data = response.json()\n",
    "\n",
    "print(json.dumps(rsi_data, indent=4))\n",
    "\n",
    "rsi_series = rsi_data['Technical Analysis: RSI']\n",
    "\n",
    "rsi_df = pd.DataFrame.from_dict(rsi_series, orient='index')\n",
    "\n",
    "rsi_df.index = pd.to_datetime(rsi_df.index)\n",
    "\n",
    "rsi_df.columns = ['RSI']\n",
    "\n",
    "rsi_df = rsi_df.astype(float)\n",
    "\n",
    "print(rsi_df.head())\n",
    "\n",
    "merged_df = merged_df.join(rsi_df, how='inner')\n",
    "\n",
    "print(merged_df.head())\n"
   ]
  },
  {
   "cell_type": "code",
   "execution_count": null,
   "id": "91f7da36-5847-4358-91e1-7885f32555f8",
   "metadata": {},
   "outputs": [],
   "source": [
    "import requests\n",
    "import pandas as pd\n",
    "\n",
    "api_key = 'YOUR_API_KEY'\n",
    "symbol = 'IBM'\n",
    "\n",
    "url = f'https://www.alphavantage.co/query?function=NEWS_SENTIMENT&symbol={symbol}&apikey={api_key}'\n",
    "response = requests.get(url)\n",
    "news_data = response.json()\n",
    "\n",
    "import json\n",
    "print(json.dumps(news_data, indent=4))\n"
   ]
  },
  {
   "cell_type": "code",
   "execution_count": null,
   "id": "ffc2445d-c554-4c8b-87b5-5af6d746710f",
   "metadata": {},
   "outputs": [],
   "source": [
    "from textblob import TextBlob\n",
    "\n",
    "articles = news_data['feed']\n",
    "\n",
    "articles_df = pd.DataFrame(articles)\n",
    "\n",
    "def get_sentiment(text):\n",
    "    analysis = TextBlob(text)\n",
    "    return analysis.sentiment.polarity\n",
    "\n",
    "articles_df['sentiment'] = articles_df['summary'].apply(get_sentiment)\n",
    "\n",
    "sentiment_by_date = articles_df.groupby('published_date')['sentiment'].mean()\n",
    "\n",
    "print(sentiment_by_date.head())\n"
   ]
  },
  {
   "cell_type": "code",
   "execution_count": null,
   "id": "2f66fea2-1de3-441a-bb9d-1658826af39c",
   "metadata": {},
   "outputs": [],
   "source": [
    "merged_df = merged_df.join(sentiment_by_date, how='left')\n",
    "\n",
    "merged_df['signal'] = 0\n",
    "merged_df.loc[(merged_df['close'] > merged_df['SMA']) & (merged_df['sentiment'] > 0), 'signal'] = 1\n",
    "merged_df.loc[(merged_df['close'] < merged_df['SMA']) | (merged_df['sentiment'] < 0), 'signal'] = -1\n",
    "\n",
    "print(merged_df.head())\n"
   ]
  },
  {
   "cell_type": "code",
   "execution_count": null,
   "id": "12f63a14-45fe-475a-ad38-3da70492f4f7",
   "metadata": {},
   "outputs": [],
   "source": [
    "initial_cash = 100000\n",
    "position = 0\n",
    "cash = initial_cash\n",
    "positions = []\n",
    "\n",
    "for index, row in merged_df.iterrows():\n",
    "    if row['signal'] == 1 and position == 0:\n",
    "        position = cash / row['close']\n",
    "        cash = 0\n",
    "        positions.append((index, 'Buy', row['close']))\n",
    "    elif row['signal'] == -1 and position > 0:\n",
    "        cash = position * row['close']\n",
    "        position = 0\n",
    "        positions.append((index, 'Sell', row['close']))\n",
    "\n",
    "final_value = cash + position * merged_df.iloc[-1]['close']\n",
    "print(f'Final portfolio value: {final_value}')\n"
   ]
  },
  {
   "cell_type": "code",
   "execution_count": null,
   "id": "31edbdbc-e47f-48b2-a5dc-ad560d5775e6",
   "metadata": {},
   "outputs": [],
   "source": [
    "import numpy as np\n",
    "\n",
    "portfolio = pd.DataFrame(index=merged_df.index)\n",
    "portfolio['holdings'] = merged_df['close'] * position\n",
    "portfolio['cash'] = cash\n",
    "portfolio['total'] = portfolio['holdings'] + portfolio['cash']\n",
    "\n",
    "portfolio['returns'] = portfolio['total'].pct_change()\n",
    "\n",
    "cumulative_returns = portfolio['total'][-1] / portfolio['total'][0] - 1\n",
    "sharpe_ratio = np.sqrt(252) * (portfolio['returns'].mean() / portfolio['returns'].std())\n",
    "drawdown = (portfolio['total'].cummax() - portfolio['total']) / portfolio['total'].cummax()\n",
    "\n",
    "print(f'Cumulative Returns: {cumulative_returns}')\n",
    "print(f'Sharpe Ratio: {sharpe_ratio}')\n",
    "print(f'Max Drawdown: {drawdown.max()}')\n"
   ]
  },
  {
   "cell_type": "code",
   "execution_count": null,
   "id": "c4496089-343d-4a3e-a7b8-07319da03a67",
   "metadata": {},
   "outputs": [],
   "source": [
    "from sklearn.model_selection import TimeSeriesSplit\n",
    "from sklearn.metrics import mean_squared_error\n",
    "\n",
    "sma_periods = [10, 20, 50]\n",
    "\n",
    "tscv = TimeSeriesSplit(n_splits=5)\n",
    "for train_index, test_index in tscv.split(merged_df):\n",
    "    train, test = merged_df.iloc[train_index], merged_df.iloc[test_index]\n",
    "    for period in sma_periods:\n",
    "        train['SMA'] = train['close'].rolling(window=period).mean()\n",
    "        test['SMA'] = test['close'].rolling(window=period).mean()\n"
   ]
  },
  {
   "cell_type": "code",
   "execution_count": null,
   "id": "0c2b8058-c73a-473e-a028-8e5482d22e97",
   "metadata": {},
   "outputs": [],
   "source": []
  },
  {
   "cell_type": "code",
   "execution_count": null,
   "id": "5d2ccb4c-f8ec-41d5-96e8-c048146b6055",
   "metadata": {},
   "outputs": [],
   "source": []
  },
  {
   "cell_type": "code",
   "execution_count": null,
   "id": "b97c103b-94cb-4897-9819-9f407c738aeb",
   "metadata": {},
   "outputs": [],
   "source": []
  },
  {
   "cell_type": "code",
   "execution_count": null,
   "id": "6aa0faae-a357-4465-95dd-2a36b3904467",
   "metadata": {},
   "outputs": [],
   "source": []
  },
  {
   "cell_type": "code",
   "execution_count": null,
   "id": "17466ad1-7f68-403e-9152-8eadeb73d914",
   "metadata": {},
   "outputs": [],
   "source": []
  },
  {
   "cell_type": "code",
   "execution_count": null,
   "id": "dcbffa01-de29-406c-be68-3caf68c97ca4",
   "metadata": {},
   "outputs": [],
   "source": []
  },
  {
   "cell_type": "code",
   "execution_count": null,
   "id": "06059667-f9a0-43e5-8dfb-e1203924b6c6",
   "metadata": {},
   "outputs": [],
   "source": []
  },
  {
   "cell_type": "code",
   "execution_count": null,
   "id": "df0f8fbd-b8b3-4e05-b63b-d371ca0ff454",
   "metadata": {},
   "outputs": [],
   "source": []
  },
  {
   "cell_type": "code",
   "execution_count": null,
   "id": "e3e4594d-9b2a-45a2-addf-84ae093dc515",
   "metadata": {},
   "outputs": [],
   "source": []
  }
 ],
 "metadata": {
  "kernelspec": {
   "display_name": "Python 3 (ipykernel)",
   "language": "python",
   "name": "python3"
  },
  "language_info": {
   "codemirror_mode": {
    "name": "ipython",
    "version": 3
   },
   "file_extension": ".py",
   "mimetype": "text/x-python",
   "name": "python",
   "nbconvert_exporter": "python",
   "pygments_lexer": "ipython3",
   "version": "3.11.7"
  }
 },
 "nbformat": 4,
 "nbformat_minor": 5
}
